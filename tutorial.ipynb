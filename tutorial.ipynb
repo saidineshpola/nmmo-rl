{
 "cells": [
  {
   "cell_type": "markdown",
   "metadata": {},
   "source": [
    "# Env testing"
   ]
  },
  {
   "cell_type": "code",
   "execution_count": 3,
   "metadata": {},
   "outputs": [
    {
     "name": "stdout",
     "output_type": "stream",
     "text": [
      "action space:  <bound method Env.action_space of <nmmo.core.env.Env object at 0x7f10fd0929e0>>\n",
      "number of agents:  [1, 2, 3, 4, 5, 6, 7, 8, 9, 10, 11, 12, 13, 14, 15, 16, 17, 18, 19, 20, 21, 22, 23, 24, 25, 26, 27, 28, 29, 30, 31, 32, 33, 34, 35, 36, 37, 38, 39, 40, 41, 42, 43, 44, 45, 46, 47, 48, 49, 50, 51, 52, 53, 54, 55, 56, 57, 58, 59, 60, 61, 62, 63, 64, 65, 66, 67, 68, 69, 70, 71, 72, 73, 74, 75, 76, 77, 78, 79, 80, 81, 82, 83, 84, 85, 86, 87, 88, 89, 90, 91, 92, 93, 94, 95, 96, 97, 98, 99, 100, 101, 102, 103, 104, 105, 106, 107, 108, 109, 110, 111, 112, 113, 114, 115, 116, 117, 118, 119, 120, 121, 122, 123, 124, 125, 126, 127, 128]\n",
      "dict_keys(['CurrentTick', 'AgentId', 'Task', 'Tile', 'Entity', 'Inventory', 'Market', 'ActionTargets'])\n",
      "Task (4096,)\n",
      "Tile (225, 3)\n",
      "Entity (100, 31)\n",
      "Inventory (12, 16)\n",
      "Market (1024, 16)\n"
     ]
    }
   ],
   "source": [
    "import nmmo\n",
    "\n",
    "env = nmmo.Env()\n",
    "obs = env.reset()\n",
    "# print action space and aganets and obs\n",
    "\n",
    "print('action space: ',env.action_space)\n",
    "print('number of agents: ',env.agents)\n",
    "print(obs[1].keys())\n",
    "# print shape of each value for the key\n",
    "for key in obs[1].keys():\n",
    "    # print lentgh of each value for the key if it is a list\n",
    "    try:\n",
    "        print(key, (obs[1][key]).shape)\n",
    "    except:    \n",
    "        pass\n",
    "for step in range(10):\n",
    "   actions = {a: env.action_space(a).sample() for a in env.agents}\n",
    "   obs, rewards, dones, infos = env.step(actions)"
   ]
  },
  {
   "cell_type": "code",
   "execution_count": 23,
   "metadata": {},
   "outputs": [
    {
     "name": "stdout",
     "output_type": "stream",
     "text": [
      "_np_random\n",
      "_np_seed\n",
      "_reset_required\n",
      "config\n",
      "realm:  dict_keys(['config', '_np_random', 'datastore', 'tick', 'exchange', 'map', 'log_helper', 'event_log', 'players', 'npcs', 'items', '_replay_helper'])\n",
      "obs\n",
      "_dummy_obs\n",
      "possible_agents\n",
      "_agents\n",
      "_dead_agents\n",
      "_dead_this_tick\n",
      "scripted_agents\n",
      "_gamestate_generator\n",
      "game_state\n",
      "tasks\n",
      "agent_task_map\n",
      "_dummy_task_embedding\n",
      "curriculum_file_path\n",
      "_atn_space\n",
      "_obs_space\n",
      "_str_atn_map\n"
     ]
    }
   ],
   "source": [
    "for key in env.__dict__.keys():\n",
    "    if key == 'realm':\n",
    "        print(key+': ', env.__dict__[key].__dict__.keys())\n",
    "    else:\n",
    "        print(key)"
   ]
  },
  {
   "cell_type": "code",
   "execution_count": 20,
   "metadata": {},
   "outputs": [
    {
     "name": "stdout",
     "output_type": "stream",
     "text": [
      "1 dict_keys(['datastore_record', 'id', 'npc_type', 'row', 'col', 'damage', 'time_alive', 'freeze', 'item_level', 'attacker_id', 'latest_combat_tick', 'message', 'gold', 'health', 'food', 'water', 'melee_level', 'melee_exp', 'range_level', 'range_exp', 'mage_level', 'mage_exp', 'fishing_level', 'fishing_exp', 'herbalism_level', 'herbalism_exp', 'prospecting_level', 'prospecting_exp', 'carving_level', 'carving_exp', 'alchemy_level', 'alchemy_exp', 'realm', 'config', '_np_random', 'policy', 'entity_id', 'repr', 'name', 'vision', 'attacker', 'target', 'closest', 'spawn_pos', 'status', 'history', 'resources', 'inventory', 'agent', 'immortal', 'buys', 'sells', 'ration_consumed', 'poultice_consumed', 'ration_level_consumed', 'poultice_level_consumed', 'skills'])\n",
      "datastore_record <nmmo.datastore.datastore.DatastoreRecord object at 0x7efe220a7f10>\n",
      "id <nmmo.datastore.serialized.SerializedAttribute object at 0x7efe1fe76bc0>\n",
      "npc_type <nmmo.datastore.serialized.SerializedAttribute object at 0x7efe1fe76bf0>\n",
      "row <nmmo.datastore.serialized.SerializedAttribute object at 0x7efe1fe76c20>\n",
      "col <nmmo.datastore.serialized.SerializedAttribute object at 0x7efe1fe76c50>\n",
      "damage <nmmo.datastore.serialized.SerializedAttribute object at 0x7efe1fe76c80>\n",
      "time_alive <nmmo.datastore.serialized.SerializedAttribute object at 0x7efe1fe76b90>\n",
      "freeze <nmmo.datastore.serialized.SerializedAttribute object at 0x7efe1fe76cb0>\n",
      "item_level <nmmo.datastore.serialized.SerializedAttribute object at 0x7efe1fe76ce0>\n",
      "attacker_id <nmmo.datastore.serialized.SerializedAttribute object at 0x7efe1fe76d10>\n",
      "latest_combat_tick <nmmo.datastore.serialized.SerializedAttribute object at 0x7efe1fe76d40>\n",
      "message <nmmo.datastore.serialized.SerializedAttribute object at 0x7efe1fe76d70>\n",
      "gold <nmmo.datastore.serialized.SerializedAttribute object at 0x7efe1fe76da0>\n",
      "health <nmmo.datastore.serialized.SerializedAttribute object at 0x7efe1fe76dd0>\n",
      "food <nmmo.datastore.serialized.SerializedAttribute object at 0x7efe1fe76e00>\n",
      "water <nmmo.datastore.serialized.SerializedAttribute object at 0x7efe1fe76e30>\n",
      "melee_level <nmmo.datastore.serialized.SerializedAttribute object at 0x7efe1fe76e60>\n",
      "melee_exp <nmmo.datastore.serialized.SerializedAttribute object at 0x7efe1fe76e90>\n",
      "range_level <nmmo.datastore.serialized.SerializedAttribute object at 0x7efe1fe76ec0>\n",
      "range_exp <nmmo.datastore.serialized.SerializedAttribute object at 0x7efe1fe76ef0>\n",
      "mage_level <nmmo.datastore.serialized.SerializedAttribute object at 0x7efe1fe76f20>\n",
      "mage_exp <nmmo.datastore.serialized.SerializedAttribute object at 0x7efe1fe76f50>\n",
      "fishing_level <nmmo.datastore.serialized.SerializedAttribute object at 0x7efe1fe76f80>\n",
      "fishing_exp <nmmo.datastore.serialized.SerializedAttribute object at 0x7efe1fe76fb0>\n",
      "herbalism_level <nmmo.datastore.serialized.SerializedAttribute object at 0x7efe1fe76fe0>\n",
      "herbalism_exp <nmmo.datastore.serialized.SerializedAttribute object at 0x7efe1fe77010>\n",
      "prospecting_level <nmmo.datastore.serialized.SerializedAttribute object at 0x7efe1fe77040>\n",
      "prospecting_exp <nmmo.datastore.serialized.SerializedAttribute object at 0x7efe1fe77070>\n",
      "carving_level <nmmo.datastore.serialized.SerializedAttribute object at 0x7efe1fe770a0>\n",
      "carving_exp <nmmo.datastore.serialized.SerializedAttribute object at 0x7efe1fe770d0>\n",
      "alchemy_level <nmmo.datastore.serialized.SerializedAttribute object at 0x7efe1fe77100>\n",
      "alchemy_exp <nmmo.datastore.serialized.SerializedAttribute object at 0x7efe1fe77130>\n",
      "realm <nmmo.core.realm.Realm object at 0x7efe573fed10>\n",
      "config <nmmo.core.config.Default object at 0x7efe2cd93eb0>\n",
      "_np_random RandomNumberGenerator(PCG64)\n",
      "policy Neural\n",
      "entity_id 1\n",
      "repr None\n",
      "name Neural1\n",
      "vision 7\n",
      "attacker None\n",
      "target None\n",
      "closest None\n",
      "spawn_pos (48, 144)\n",
      "status <nmmo.entity.entity.Status object at 0x7efe1fe77160>\n",
      "history <nmmo.entity.entity.History object at 0x7efe1fe771c0>\n",
      "resources <nmmo.entity.entity.Resources object at 0x7efe1fe771f0>\n",
      "inventory <nmmo.systems.inventory.Inventory object at 0x7efe1fe77220>\n",
      "agent <nmmo.core.agent.Agent object at 0x7efe220d8580>\n",
      "immortal False\n",
      "buys 0\n",
      "sells 0\n",
      "ration_consumed 0\n",
      "poultice_consumed 0\n",
      "ration_level_consumed 0\n",
      "poultice_level_consumed 0\n",
      "skills <nmmo.systems.skill.Skills object at 0x7efe1fe774f0>\n"
     ]
    }
   ],
   "source": [
    "for key, value in env.realm.players.items():\n",
    "    print(key, value.__dict__.keys())\n",
    "    for key2, value2 in value.__dict__.items():\n",
    "        print(key2, value2)\n",
    "    break"
   ]
  },
  {
   "cell_type": "code",
   "execution_count": 1,
   "metadata": {},
   "outputs": [
    {
     "name": "stdout",
     "output_type": "stream",
     "text": [
      "torch.Size([768, 12, 81])\n"
     ]
    }
   ],
   "source": [
    "import torch\n",
    "\n",
    "# Assuming x is your tensor\n",
    "x = torch.rand(768, 16, 9, 9)\n",
    "\n",
    "# Reshape the tensor to flatten the spatial dimensions\n",
    "x = x.view(768, 16, -1)\n",
    "#print(x.shape)  # Should print torch.Size([768, 4, 81])\n",
    "from reinforcement_learning.model_util import TransformerBlock\n",
    "# RuntimeError: shape '[768, -1, 3, 4, 20]' is invalid for input of size 2985984\n",
    "l = TransformerBlock(dim=81)\n",
    "x= l(x)\n",
    "print(x.shape)  # Should print torch.Size([768, 81, 4])"
   ]
  },
  {
   "cell_type": "markdown",
   "metadata": {},
   "source": [
    "Environment Keys"
   ]
  },
  {
   "cell_type": "markdown",
   "metadata": {},
   "source": [
    "Baseline Policy values"
   ]
  },
  {
   "cell_type": "code",
   "execution_count": 13,
   "metadata": {},
   "outputs": [
    {
     "name": "stdout",
     "output_type": "stream",
     "text": [
      "Policy(\n",
      "  (policy): Baseline(\n",
      "    (tile_encoder): TileEncoder(\n",
      "      (embedding): Embedding(768, 32)\n",
      "      (tile_conv_1): Conv2d(96, 32, kernel_size=(3, 3), stride=(1, 1))\n",
      "      (tile_conv_2): Conv2d(32, 8, kernel_size=(3, 3), stride=(1, 1))\n",
      "      (tile_fc): Linear(in_features=968, out_features=256, bias=True)\n",
      "    )\n",
      "    (player_encoder): PlayerEncoder(\n",
      "      (embedding): Embedding(7936, 32)\n",
      "      (agent_fc): Linear(in_features=992, out_features=256, bias=True)\n",
      "      (my_agent_fc): Linear(in_features=992, out_features=256, bias=True)\n",
      "    )\n",
      "    (item_encoder): ItemEncoder(\n",
      "      (embedding): Embedding(256, 32)\n",
      "      (fc): Linear(in_features=76, out_features=256, bias=True)\n",
      "    )\n",
      "    (inventory_encoder): InventoryEncoder(\n",
      "      (fc): Linear(in_features=3072, out_features=256, bias=True)\n",
      "    )\n",
      "    (market_encoder): MarketEncoder(\n",
      "      (fc): Linear(in_features=256, out_features=256, bias=True)\n",
      "    )\n",
      "    (task_encoder): TaskEncoder(\n",
      "      (fc): Linear(in_features=4096, out_features=256, bias=True)\n",
      "    )\n",
      "    (proj_fc): Linear(in_features=1280, out_features=256, bias=True)\n",
      "    (action_decoder): ActionDecoder(\n",
      "      (layers): ModuleDict(\n",
      "        (attack_style): Linear(in_features=256, out_features=3, bias=True)\n",
      "        (attack_target): Linear(in_features=256, out_features=256, bias=True)\n",
      "        (market_buy): Linear(in_features=256, out_features=256, bias=True)\n",
      "        (inventory_destroy): Linear(in_features=256, out_features=256, bias=True)\n",
      "        (inventory_give_item): Linear(in_features=256, out_features=256, bias=True)\n",
      "        (inventory_give_player): Linear(in_features=256, out_features=256, bias=True)\n",
      "        (gold_quantity): Linear(in_features=256, out_features=99, bias=True)\n",
      "        (gold_target): Linear(in_features=256, out_features=256, bias=True)\n",
      "        (move): Linear(in_features=256, out_features=5, bias=True)\n",
      "        (inventory_sell): Linear(in_features=256, out_features=256, bias=True)\n",
      "        (inventory_price): Linear(in_features=256, out_features=99, bias=True)\n",
      "        (inventory_use): Linear(in_features=256, out_features=256, bias=True)\n",
      "      )\n",
      "    )\n",
      "    (value_head): Linear(in_features=256, out_features=1, bias=True)\n",
      "  )\n",
      ")\n"
     ]
    }
   ],
   "source": [
    "# I want to see what is inside the pytorch model/home/saidinesh/Desktop/Projects/baselines/starter-kit-nmmo/my-submission/nmmo_20231108_125354.000305.pt\n",
    "import torch\n",
    "model = torch.load('/home/saidinesh/Desktop/Projects/baselines/starter-kit-nmmo/my-submission/nmmo_20231108_125354.000305.pt')\n",
    "print(model)"
   ]
  },
  {
   "cell_type": "code",
   "execution_count": 4,
   "metadata": {},
   "outputs": [
    {
     "data": {
      "text/plain": [
       "array([], shape=(0, 15), dtype=float64)"
      ]
     },
     "execution_count": 4,
     "metadata": {},
     "output_type": "execute_result"
    }
   ],
   "source": [
    "from nmmo.lib.log import EventCode\n",
    "env = nmmo.Env()\n",
    "log = env.realm.event_log.get_data( #agents=[1],\n",
    "                                        event_code=EventCode.PLAYER_KILL,\n",
    "                                        tick=env.realm.tick)\n",
    "log                                        "
   ]
  }
 ],
 "metadata": {
  "kernelspec": {
   "display_name": "rllib-env",
   "language": "python",
   "name": "python3"
  },
  "language_info": {
   "codemirror_mode": {
    "name": "ipython",
    "version": 3
   },
   "file_extension": ".py",
   "mimetype": "text/x-python",
   "name": "python",
   "nbconvert_exporter": "python",
   "pygments_lexer": "ipython3",
   "version": "3.10.12"
  }
 },
 "nbformat": 4,
 "nbformat_minor": 2
}
