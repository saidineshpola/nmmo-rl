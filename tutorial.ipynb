{
 "cells": [
  {
   "cell_type": "markdown",
   "metadata": {},
   "source": [
    "# Env testing"
   ]
  },
  {
   "cell_type": "code",
   "execution_count": 11,
   "metadata": {},
   "outputs": [
    {
     "name": "stdout",
     "output_type": "stream",
     "text": [
      "action space:  <bound method Env.action_space of <nmmo.core.env.Env object at 0x7f4b0eece800>>\n",
      "number of agents:  [1, 2, 3, 4, 5, 6, 7, 8, 9, 10, 11, 12, 13, 14, 15, 16, 17, 18, 19, 20, 21, 22, 23, 24, 25, 26, 27, 28, 29, 30, 31, 32, 33, 34, 35, 36, 37, 38, 39, 40, 41, 42, 43, 44, 45, 46, 47, 48, 49, 50, 51, 52, 53, 54, 55, 56, 57, 58, 59, 60, 61, 62, 63, 64, 65, 66, 67, 68, 69, 70, 71, 72, 73, 74, 75, 76, 77, 78, 79, 80, 81, 82, 83, 84, 85, 86, 87, 88, 89, 90, 91, 92, 93, 94, 95, 96, 97, 98, 99, 100, 101, 102, 103, 104, 105, 106, 107, 108, 109, 110, 111, 112, 113, 114, 115, 116, 117, 118, 119, 120, 121, 122, 123, 124, 125, 126, 127, 128]\n",
      "dict_keys(['CurrentTick', 'AgentId', 'Task', 'Tile', 'Entity', 'Inventory', 'Market', 'ActionTargets'])\n",
      "Task (4096,)\n",
      "Tile (225, 3)\n",
      "Entity (100, 31)\n",
      "Inventory (12, 16)\n",
      "Market (1024, 16)\n"
     ]
    }
   ],
   "source": [
    "import nmmo\n",
    "\n",
    "env = nmmo.Env()\n",
    "obs = env.reset()\n",
    "# print action space and aganets and obs\n",
    "\n",
    "print('action space: ',env.action_space)\n",
    "print('number of agents: ',env.agents)\n",
    "print(obs[1].keys())\n",
    "# print shape of each value for the key\n",
    "for key in obs[1].keys():\n",
    "    # print lentgh of each value for the key if it is a list\n",
    "    try:\n",
    "        print(key, (obs[1][key]).shape)\n",
    "    except:    \n",
    "        pass\n",
    "for step in range(10):\n",
    "   actions = {a: env.action_space(a).sample() for a in env.agents}\n",
    "   obs, rewards, dones, infos = env.step(actions)"
   ]
  },
  {
   "cell_type": "markdown",
   "metadata": {},
   "source": [
    "Environment Keys"
   ]
  },
  {
   "cell_type": "code",
   "execution_count": 10,
   "metadata": {},
   "outputs": [
    {
     "name": "stdout",
     "output_type": "stream",
     "text": [
      "_np_random:  RandomNumberGenerator(PCG64)\n",
      "_np_seed:  182441341230672622372653920098041406913\n",
      "_reset_required:  False\n",
      "config:  <nmmo.core.config.Default object at 0x7f4b1bd93880>\n",
      "realm:  <nmmo.core.realm.Realm object at 0x7f4b4660bd60>\n",
      "obs:  {1: <nmmo.core.observation.Observation object at 0x7f4b0efac8e0>, 2: <nmmo.core.observation.Observation object at 0x7f4b0efacac0>, 3: <nmmo.core.observation.Observation object at 0x7f4b0efacc40>, 4: <nmmo.core.observation.Observation object at 0x7f4b0efacdc0>, 5: <nmmo.core.observation.Observation object at 0x7f4b0efacf40>, 6: <nmmo.core.observation.Observation object at 0x7f4b0efad0c0>, 7: <nmmo.core.observation.Observation object at 0x7f4b0efad240>, 8: <nmmo.core.observation.Observation object at 0x7f4b0efad3c0>, 9: <nmmo.core.observation.Observation object at 0x7f4b0efad540>, 10: <nmmo.core.observation.Observation object at 0x7f4b0efad6c0>, 11: <nmmo.core.observation.Observation object at 0x7f4b0efad840>, 12: <nmmo.core.observation.Observation object at 0x7f4b0efad9c0>, 13: <nmmo.core.observation.Observation object at 0x7f4b0efadb40>, 14: <nmmo.core.observation.Observation object at 0x7f4b0efadcf0>, 15: <nmmo.core.observation.Observation object at 0x7f4b0efadea0>, 16: <nmmo.core.observation.Observation object at 0x7f4b0efae050>, 17: <nmmo.core.observation.Observation object at 0x7f4b0efae200>, 18: <nmmo.core.observation.Observation object at 0x7f4b0efae3b0>, 19: <nmmo.core.observation.Observation object at 0x7f4b0efae560>, 20: <nmmo.core.observation.Observation object at 0x7f4b0efae710>, 21: <nmmo.core.observation.Observation object at 0x7f4b0efae8c0>, 22: <nmmo.core.observation.Observation object at 0x7f4b0efaea70>, 23: <nmmo.core.observation.Observation object at 0x7f4b0efaec20>, 24: <nmmo.core.observation.Observation object at 0x7f4b0efaedd0>, 25: <nmmo.core.observation.Observation object at 0x7f4b0efaef80>, 26: <nmmo.core.observation.Observation object at 0x7f4b0efaf130>, 27: <nmmo.core.observation.Observation object at 0x7f4b0efaf2e0>, 28: <nmmo.core.observation.Observation object at 0x7f4b0efaf490>, 29: <nmmo.core.observation.Observation object at 0x7f4b0efaf640>, 30: <nmmo.core.observation.Observation object at 0x7f4b0efaf7f0>, 31: <nmmo.core.observation.Observation object at 0x7f4b0efaf9a0>, 32: <nmmo.core.observation.Observation object at 0x7f4b0efafb50>, 33: <nmmo.core.observation.Observation object at 0x7f4b0efafd00>, 34: <nmmo.core.observation.Observation object at 0x7f4b0efafeb0>, 35: <nmmo.core.observation.Observation object at 0x7f4b0efd40a0>, 36: <nmmo.core.observation.Observation object at 0x7f4b0efd4250>, 37: <nmmo.core.observation.Observation object at 0x7f4b0efd4400>, 38: <nmmo.core.observation.Observation object at 0x7f4b0efd45b0>, 39: <nmmo.core.observation.Observation object at 0x7f4b0efd4760>, 40: <nmmo.core.observation.Observation object at 0x7f4b0efd4910>, 41: <nmmo.core.observation.Observation object at 0x7f4b0efd4ac0>, 42: <nmmo.core.observation.Observation object at 0x7f4b0efd4c70>, 43: <nmmo.core.observation.Observation object at 0x7f4b0efd4e20>, 44: <nmmo.core.observation.Observation object at 0x7f4b0efd4fd0>, 45: <nmmo.core.observation.Observation object at 0x7f4b0efd5180>, 46: <nmmo.core.observation.Observation object at 0x7f4b0efd5330>, 47: <nmmo.core.observation.Observation object at 0x7f4b0efd54e0>, 48: <nmmo.core.observation.Observation object at 0x7f4b0efd5690>, 49: <nmmo.core.observation.Observation object at 0x7f4b0efd5840>, 50: <nmmo.core.observation.Observation object at 0x7f4b0efd59f0>, 51: <nmmo.core.observation.Observation object at 0x7f4b0efd5ba0>, 52: <nmmo.core.observation.Observation object at 0x7f4b0efd5d50>, 53: <nmmo.core.observation.Observation object at 0x7f4b0efd5f00>, 54: <nmmo.core.observation.Observation object at 0x7f4b0efd60b0>, 55: <nmmo.core.observation.Observation object at 0x7f4b0efd6260>, 56: <nmmo.core.observation.Observation object at 0x7f4b0efd6410>, 57: <nmmo.core.observation.Observation object at 0x7f4b0efd65c0>, 58: <nmmo.core.observation.Observation object at 0x7f4b0efd6770>, 59: <nmmo.core.observation.Observation object at 0x7f4b0efd6920>, 60: <nmmo.core.observation.Observation object at 0x7f4b0efd6ad0>, 61: <nmmo.core.observation.Observation object at 0x7f4b0efd6c80>, 62: <nmmo.core.observation.Observation object at 0x7f4b0efd6e30>, 63: <nmmo.core.observation.Observation object at 0x7f4b0efd6fe0>, 64: <nmmo.core.observation.Observation object at 0x7f4b0efd7190>, 65: <nmmo.core.observation.Observation object at 0x7f4b0efd7340>, 66: <nmmo.core.observation.Observation object at 0x7f4b0efd74f0>, 67: <nmmo.core.observation.Observation object at 0x7f4b0efd76a0>, 68: <nmmo.core.observation.Observation object at 0x7f4b0efd7850>, 69: <nmmo.core.observation.Observation object at 0x7f4b0efd7a00>, 70: <nmmo.core.observation.Observation object at 0x7f4b0efd7bb0>, 71: <nmmo.core.observation.Observation object at 0x7f4b0efd7d60>, 72: <nmmo.core.observation.Observation object at 0x7f4b0efd7f10>, 73: <nmmo.core.observation.Observation object at 0x7f4b0eff4100>, 74: <nmmo.core.observation.Observation object at 0x7f4b0eff42b0>, 75: <nmmo.core.observation.Observation object at 0x7f4b0eff4460>, 76: <nmmo.core.observation.Observation object at 0x7f4b0eff4610>, 77: <nmmo.core.observation.Observation object at 0x7f4b0eff47c0>, 78: <nmmo.core.observation.Observation object at 0x7f4b0eff4970>, 79: <nmmo.core.observation.Observation object at 0x7f4b0eff4b20>, 80: <nmmo.core.observation.Observation object at 0x7f4b0eff4cd0>, 81: <nmmo.core.observation.Observation object at 0x7f4b0eff4e80>, 82: <nmmo.core.observation.Observation object at 0x7f4b0eff5030>, 83: <nmmo.core.observation.Observation object at 0x7f4b0eff51e0>, 84: <nmmo.core.observation.Observation object at 0x7f4b0eff5390>, 85: <nmmo.core.observation.Observation object at 0x7f4b0eff5540>, 86: <nmmo.core.observation.Observation object at 0x7f4b0eff56f0>, 87: <nmmo.core.observation.Observation object at 0x7f4b0eff58a0>, 88: <nmmo.core.observation.Observation object at 0x7f4b0eff5a50>, 89: <nmmo.core.observation.Observation object at 0x7f4b0eff5c00>, 90: <nmmo.core.observation.Observation object at 0x7f4b0eff5db0>, 91: <nmmo.core.observation.Observation object at 0x7f4b0eff5f60>, 92: <nmmo.core.observation.Observation object at 0x7f4b0eff6110>, 93: <nmmo.core.observation.Observation object at 0x7f4b0eff62c0>, 94: <nmmo.core.observation.Observation object at 0x7f4b0eff6470>, 95: <nmmo.core.observation.Observation object at 0x7f4b0eff6620>, 96: <nmmo.core.observation.Observation object at 0x7f4b0eff67d0>, 97: <nmmo.core.observation.Observation object at 0x7f4b0eff6980>, 98: <nmmo.core.observation.Observation object at 0x7f4b0eff6b30>, 99: <nmmo.core.observation.Observation object at 0x7f4b0eff6ce0>, 100: <nmmo.core.observation.Observation object at 0x7f4b0eff6e90>, 101: <nmmo.core.observation.Observation object at 0x7f4b0eff7040>, 102: <nmmo.core.observation.Observation object at 0x7f4b0eff71f0>, 103: <nmmo.core.observation.Observation object at 0x7f4b0eff73a0>, 104: <nmmo.core.observation.Observation object at 0x7f4b0eff7550>, 105: <nmmo.core.observation.Observation object at 0x7f4b0eff7700>, 106: <nmmo.core.observation.Observation object at 0x7f4b0eff78b0>, 107: <nmmo.core.observation.Observation object at 0x7f4b0eff7a60>, 108: <nmmo.core.observation.Observation object at 0x7f4b0eff7c10>, 109: <nmmo.core.observation.Observation object at 0x7f4b0eff7dc0>, 110: <nmmo.core.observation.Observation object at 0x7f4b0eff7f70>, 111: <nmmo.core.observation.Observation object at 0x7f4b0ee10160>, 112: <nmmo.core.observation.Observation object at 0x7f4b0ee10310>, 113: <nmmo.core.observation.Observation object at 0x7f4b0ee104c0>, 114: <nmmo.core.observation.Observation object at 0x7f4b0ee10670>, 115: <nmmo.core.observation.Observation object at 0x7f4b0ee10820>, 116: <nmmo.core.observation.Observation object at 0x7f4b0ee109d0>, 117: <nmmo.core.observation.Observation object at 0x7f4b0ee10b80>, 118: <nmmo.core.observation.Observation object at 0x7f4b0ee10d30>, 119: <nmmo.core.observation.Observation object at 0x7f4b0ee10ee0>, 120: <nmmo.core.observation.Observation object at 0x7f4b0ee11090>, 121: <nmmo.core.observation.Observation object at 0x7f4b0ee11240>, 122: <nmmo.core.observation.Observation object at 0x7f4b0ee113f0>, 123: <nmmo.core.observation.Observation object at 0x7f4b0ee115a0>, 124: <nmmo.core.observation.Observation object at 0x7f4b0ee11750>, 125: <nmmo.core.observation.Observation object at 0x7f4b0ee11900>, 126: <nmmo.core.observation.Observation object at 0x7f4b0ee11ab0>, 127: <nmmo.core.observation.Observation object at 0x7f4b0ee11c60>, 128: <nmmo.core.observation.Observation object at 0x7f4b0ee11e10>}\n",
      "_dummy_obs:  <nmmo.core.observation.Observation object at 0x7f4b0ef9f400>\n",
      "possible_agents:  [1, 2, 3, 4, 5, 6, 7, 8, 9, 10, 11, 12, 13, 14, 15, 16, 17, 18, 19, 20, 21, 22, 23, 24, 25, 26, 27, 28, 29, 30, 31, 32, 33, 34, 35, 36, 37, 38, 39, 40, 41, 42, 43, 44, 45, 46, 47, 48, 49, 50, 51, 52, 53, 54, 55, 56, 57, 58, 59, 60, 61, 62, 63, 64, 65, 66, 67, 68, 69, 70, 71, 72, 73, 74, 75, 76, 77, 78, 79, 80, 81, 82, 83, 84, 85, 86, 87, 88, 89, 90, 91, 92, 93, 94, 95, 96, 97, 98, 99, 100, 101, 102, 103, 104, 105, 106, 107, 108, 109, 110, 111, 112, 113, 114, 115, 116, 117, 118, 119, 120, 121, 122, 123, 124, 125, 126, 127, 128]\n",
      "_agents:  [1, 2, 3, 4, 5, 6, 7, 8, 9, 10, 11, 12, 13, 14, 15, 16, 17, 18, 19, 20, 21, 22, 23, 24, 25, 26, 27, 28, 29, 30, 31, 32, 33, 34, 35, 36, 37, 38, 39, 40, 41, 42, 43, 44, 45, 46, 47, 48, 49, 50, 51, 52, 53, 54, 55, 56, 57, 58, 59, 60, 61, 62, 63, 64, 65, 66, 67, 68, 69, 70, 71, 72, 73, 74, 75, 76, 77, 78, 79, 80, 81, 82, 83, 84, 85, 86, 87, 88, 89, 90, 91, 92, 93, 94, 95, 96, 97, 98, 99, 100, 101, 102, 103, 104, 105, 106, 107, 108, 109, 110, 111, 112, 113, 114, 115, 116, 117, 118, 119, 120, 121, 122, 123, 124, 125, 126, 127, 128]\n",
      "_dead_agents:  set()\n",
      "_dead_this_tick:  {}\n",
      "scripted_agents:  set()\n",
      "_gamestate_generator:  <nmmo.task.game_state.GameStateGenerator object at 0x7f4b0efac8b0>\n",
      "game_state:  None\n",
      "tasks:  [<nmmo.task.task_api.OngoingTask object at 0x7f4b0f6654e0>, <nmmo.task.task_api.OngoingTask object at 0x7f4b0f665600>, <nmmo.task.task_api.OngoingTask object at 0x7f4b0f665780>, <nmmo.task.task_api.OngoingTask object at 0x7f4b0f665900>, <nmmo.task.task_api.OngoingTask object at 0x7f4b0f665a80>, <nmmo.task.task_api.OngoingTask object at 0x7f4b0f665c00>, <nmmo.task.task_api.OngoingTask object at 0x7f4b0f665d80>, <nmmo.task.task_api.OngoingTask object at 0x7f4b0f665ed0>, <nmmo.task.task_api.OngoingTask object at 0x7f4b0f666050>, <nmmo.task.task_api.OngoingTask object at 0x7f4b0f6661d0>, <nmmo.task.task_api.OngoingTask object at 0x7f4b0f666350>, <nmmo.task.task_api.OngoingTask object at 0x7f4b0f6664a0>, <nmmo.task.task_api.OngoingTask object at 0x7f4b0f666620>, <nmmo.task.task_api.OngoingTask object at 0x7f4b0f6667a0>, <nmmo.task.task_api.OngoingTask object at 0x7f4b0f666920>, <nmmo.task.task_api.OngoingTask object at 0x7f4b0f666aa0>, <nmmo.task.task_api.OngoingTask object at 0x7f4b0f666c20>, <nmmo.task.task_api.OngoingTask object at 0x7f4b0f666da0>, <nmmo.task.task_api.OngoingTask object at 0x7f4b0f666f20>, <nmmo.task.task_api.OngoingTask object at 0x7f4b0f6670a0>, <nmmo.task.task_api.OngoingTask object at 0x7f4b0f667220>, <nmmo.task.task_api.OngoingTask object at 0x7f4b0f6673a0>, <nmmo.task.task_api.OngoingTask object at 0x7f4b0f6674f0>, <nmmo.task.task_api.OngoingTask object at 0x7f4b0f667670>, <nmmo.task.task_api.OngoingTask object at 0x7f4b0f6677f0>, <nmmo.task.task_api.OngoingTask object at 0x7f4b0f667970>, <nmmo.task.task_api.OngoingTask object at 0x7f4b0f667af0>, <nmmo.task.task_api.OngoingTask object at 0x7f4b0f667c70>, <nmmo.task.task_api.OngoingTask object at 0x7f4b0f667df0>, <nmmo.task.task_api.OngoingTask object at 0x7f4b0f667f70>, <nmmo.task.task_api.OngoingTask object at 0x7f4b0f5a4130>, <nmmo.task.task_api.OngoingTask object at 0x7f4b0f5a42b0>, <nmmo.task.task_api.OngoingTask object at 0x7f4b0f5a4430>, <nmmo.task.task_api.OngoingTask object at 0x7f4b0f5a4580>, <nmmo.task.task_api.OngoingTask object at 0x7f4b0f5a4700>, <nmmo.task.task_api.OngoingTask object at 0x7f4b0f5a4880>, <nmmo.task.task_api.OngoingTask object at 0x7f4b0f5a4a00>, <nmmo.task.task_api.OngoingTask object at 0x7f4b0f5a4b80>, <nmmo.task.task_api.OngoingTask object at 0x7f4b0f5a4cd0>, <nmmo.task.task_api.OngoingTask object at 0x7f4b0f5a4e50>, <nmmo.task.task_api.OngoingTask object at 0x7f4b0f5a4fd0>, <nmmo.task.task_api.OngoingTask object at 0x7f4b0f5a5150>, <nmmo.task.task_api.OngoingTask object at 0x7f4b0f5a52a0>, <nmmo.task.task_api.OngoingTask object at 0x7f4b0f5a5420>, <nmmo.task.task_api.OngoingTask object at 0x7f4b0f5a5570>, <nmmo.task.task_api.OngoingTask object at 0x7f4b0f5a56f0>, <nmmo.task.task_api.OngoingTask object at 0x7f4b0f5a5870>, <nmmo.task.task_api.OngoingTask object at 0x7f4b0f5a59f0>, <nmmo.task.task_api.OngoingTask object at 0x7f4b0f5a5b40>, <nmmo.task.task_api.OngoingTask object at 0x7f4b0f5a5cc0>, <nmmo.task.task_api.OngoingTask object at 0x7f4b0f5a5e40>, <nmmo.task.task_api.OngoingTask object at 0x7f4b0f5a5fc0>, <nmmo.task.task_api.OngoingTask object at 0x7f4b0f5a6140>, <nmmo.task.task_api.OngoingTask object at 0x7f4b0f5a62c0>, <nmmo.task.task_api.OngoingTask object at 0x7f4b0f5a6440>, <nmmo.task.task_api.OngoingTask object at 0x7f4b0f5a65c0>, <nmmo.task.task_api.OngoingTask object at 0x7f4b0f5a6740>, <nmmo.task.task_api.OngoingTask object at 0x7f4b0f5a68c0>, <nmmo.task.task_api.OngoingTask object at 0x7f4b0f5a6a40>, <nmmo.task.task_api.OngoingTask object at 0x7f4b0f5a6bc0>, <nmmo.task.task_api.OngoingTask object at 0x7f4b0f5a6d40>, <nmmo.task.task_api.OngoingTask object at 0x7f4b0f5a6ec0>, <nmmo.task.task_api.OngoingTask object at 0x7f4b0f5a7040>, <nmmo.task.task_api.OngoingTask object at 0x7f4b0f5a71c0>, <nmmo.task.task_api.OngoingTask object at 0x7f4b0f5a7310>, <nmmo.task.task_api.OngoingTask object at 0x7f4b0f5a7490>, <nmmo.task.task_api.OngoingTask object at 0x7f4b0f5a75e0>, <nmmo.task.task_api.OngoingTask object at 0x7f4b0f5a7760>, <nmmo.task.task_api.OngoingTask object at 0x7f4b0f5a78e0>, <nmmo.task.task_api.OngoingTask object at 0x7f4b0f5a7a60>, <nmmo.task.task_api.OngoingTask object at 0x7f4b0f5a7bb0>, <nmmo.task.task_api.OngoingTask object at 0x7f4b0f5a7d30>, <nmmo.task.task_api.OngoingTask object at 0x7f4b0f5a7eb0>, <nmmo.task.task_api.OngoingTask object at 0x7f4b0f5b0070>, <nmmo.task.task_api.OngoingTask object at 0x7f4b0f5b01f0>, <nmmo.task.task_api.OngoingTask object at 0x7f4b0f5b0340>, <nmmo.task.task_api.OngoingTask object at 0x7f4b0f5b04c0>, <nmmo.task.task_api.OngoingTask object at 0x7f4b0f5b0640>, <nmmo.task.task_api.OngoingTask object at 0x7f4b0f5b07c0>, <nmmo.task.task_api.OngoingTask object at 0x7f4b0f5b0910>, <nmmo.task.task_api.OngoingTask object at 0x7f4b0f5b0a90>, <nmmo.task.task_api.OngoingTask object at 0x7f4b0f5b0be0>, <nmmo.task.task_api.OngoingTask object at 0x7f4b0f5b0d60>, <nmmo.task.task_api.OngoingTask object at 0x7f4b0f5b0ee0>, <nmmo.task.task_api.OngoingTask object at 0x7f4b0f5b1060>, <nmmo.task.task_api.OngoingTask object at 0x7f4b0f5b11e0>, <nmmo.task.task_api.OngoingTask object at 0x7f4b0f5b1360>, <nmmo.task.task_api.OngoingTask object at 0x7f4b0f5b14e0>, <nmmo.task.task_api.OngoingTask object at 0x7f4b0f5b1660>, <nmmo.task.task_api.OngoingTask object at 0x7f4b0f5b17e0>, <nmmo.task.task_api.OngoingTask object at 0x7f4b0f5b1960>, <nmmo.task.task_api.OngoingTask object at 0x7f4b0f5b1ae0>, <nmmo.task.task_api.OngoingTask object at 0x7f4b0f5b1c60>, <nmmo.task.task_api.OngoingTask object at 0x7f4b0f5b1de0>, <nmmo.task.task_api.OngoingTask object at 0x7f4b0f5b1f60>, <nmmo.task.task_api.OngoingTask object at 0x7f4b0f5b20e0>, <nmmo.task.task_api.OngoingTask object at 0x7f4b0f5b2260>, <nmmo.task.task_api.OngoingTask object at 0x7f4b0f5b23b0>, <nmmo.task.task_api.OngoingTask object at 0x7f4b0f5b2530>, <nmmo.task.task_api.OngoingTask object at 0x7f4b0f5b26b0>, <nmmo.task.task_api.OngoingTask object at 0x7f4b0f5b2830>, <nmmo.task.task_api.OngoingTask object at 0x7f4b0f5b2980>, <nmmo.task.task_api.OngoingTask object at 0x7f4b0f5b2b00>, <nmmo.task.task_api.OngoingTask object at 0x7f4b0f5b2c50>, <nmmo.task.task_api.OngoingTask object at 0x7f4b0f5b2dd0>, <nmmo.task.task_api.OngoingTask object at 0x7f4b0f5b2f50>, <nmmo.task.task_api.OngoingTask object at 0x7f4b0f5b30d0>, <nmmo.task.task_api.OngoingTask object at 0x7f4b0f5b3220>, <nmmo.task.task_api.OngoingTask object at 0x7f4b0f5b33a0>, <nmmo.task.task_api.OngoingTask object at 0x7f4b0f5b3520>, <nmmo.task.task_api.OngoingTask object at 0x7f4b0f5b36a0>, <nmmo.task.task_api.OngoingTask object at 0x7f4b0f5b3820>, <nmmo.task.task_api.OngoingTask object at 0x7f4b0f5b39a0>, <nmmo.task.task_api.OngoingTask object at 0x7f4b0f5b3b20>, <nmmo.task.task_api.OngoingTask object at 0x7f4b0f5b3ca0>, <nmmo.task.task_api.OngoingTask object at 0x7f4b0f5b3e20>, <nmmo.task.task_api.OngoingTask object at 0x7f4b0f5b3fa0>, <nmmo.task.task_api.OngoingTask object at 0x7f4b0f5bc160>, <nmmo.task.task_api.OngoingTask object at 0x7f4b0f5bc2e0>, <nmmo.task.task_api.OngoingTask object at 0x7f4b0f5bc460>, <nmmo.task.task_api.OngoingTask object at 0x7f4b0f5bc5e0>, <nmmo.task.task_api.OngoingTask object at 0x7f4b0f5bc760>, <nmmo.task.task_api.OngoingTask object at 0x7f4b0f5bc8e0>, <nmmo.task.task_api.OngoingTask object at 0x7f4b0f5bca30>, <nmmo.task.task_api.OngoingTask object at 0x7f4b0f5bcbb0>, <nmmo.task.task_api.OngoingTask object at 0x7f4b0f5bcd30>, <nmmo.task.task_api.OngoingTask object at 0x7f4b0f5bceb0>, <nmmo.task.task_api.OngoingTask object at 0x7f4b0f5bd030>]\n",
      "agent_task_map:  {1: [<nmmo.task.task_api.OngoingTask object at 0x7f4b0f6654e0>], 2: [<nmmo.task.task_api.OngoingTask object at 0x7f4b0f665600>], 3: [<nmmo.task.task_api.OngoingTask object at 0x7f4b0f665780>], 4: [<nmmo.task.task_api.OngoingTask object at 0x7f4b0f665900>], 5: [<nmmo.task.task_api.OngoingTask object at 0x7f4b0f665a80>], 6: [<nmmo.task.task_api.OngoingTask object at 0x7f4b0f665c00>], 7: [<nmmo.task.task_api.OngoingTask object at 0x7f4b0f665d80>], 8: [<nmmo.task.task_api.OngoingTask object at 0x7f4b0f665ed0>], 9: [<nmmo.task.task_api.OngoingTask object at 0x7f4b0f666050>], 10: [<nmmo.task.task_api.OngoingTask object at 0x7f4b0f6661d0>], 11: [<nmmo.task.task_api.OngoingTask object at 0x7f4b0f666350>], 12: [<nmmo.task.task_api.OngoingTask object at 0x7f4b0f6664a0>], 13: [<nmmo.task.task_api.OngoingTask object at 0x7f4b0f666620>], 14: [<nmmo.task.task_api.OngoingTask object at 0x7f4b0f6667a0>], 15: [<nmmo.task.task_api.OngoingTask object at 0x7f4b0f666920>], 16: [<nmmo.task.task_api.OngoingTask object at 0x7f4b0f666aa0>], 17: [<nmmo.task.task_api.OngoingTask object at 0x7f4b0f666c20>], 18: [<nmmo.task.task_api.OngoingTask object at 0x7f4b0f666da0>], 19: [<nmmo.task.task_api.OngoingTask object at 0x7f4b0f666f20>], 20: [<nmmo.task.task_api.OngoingTask object at 0x7f4b0f6670a0>], 21: [<nmmo.task.task_api.OngoingTask object at 0x7f4b0f667220>], 22: [<nmmo.task.task_api.OngoingTask object at 0x7f4b0f6673a0>], 23: [<nmmo.task.task_api.OngoingTask object at 0x7f4b0f6674f0>], 24: [<nmmo.task.task_api.OngoingTask object at 0x7f4b0f667670>], 25: [<nmmo.task.task_api.OngoingTask object at 0x7f4b0f6677f0>], 26: [<nmmo.task.task_api.OngoingTask object at 0x7f4b0f667970>], 27: [<nmmo.task.task_api.OngoingTask object at 0x7f4b0f667af0>], 28: [<nmmo.task.task_api.OngoingTask object at 0x7f4b0f667c70>], 29: [<nmmo.task.task_api.OngoingTask object at 0x7f4b0f667df0>], 30: [<nmmo.task.task_api.OngoingTask object at 0x7f4b0f667f70>], 31: [<nmmo.task.task_api.OngoingTask object at 0x7f4b0f5a4130>], 32: [<nmmo.task.task_api.OngoingTask object at 0x7f4b0f5a42b0>], 33: [<nmmo.task.task_api.OngoingTask object at 0x7f4b0f5a4430>], 34: [<nmmo.task.task_api.OngoingTask object at 0x7f4b0f5a4580>], 35: [<nmmo.task.task_api.OngoingTask object at 0x7f4b0f5a4700>], 36: [<nmmo.task.task_api.OngoingTask object at 0x7f4b0f5a4880>], 37: [<nmmo.task.task_api.OngoingTask object at 0x7f4b0f5a4a00>], 38: [<nmmo.task.task_api.OngoingTask object at 0x7f4b0f5a4b80>], 39: [<nmmo.task.task_api.OngoingTask object at 0x7f4b0f5a4cd0>], 40: [<nmmo.task.task_api.OngoingTask object at 0x7f4b0f5a4e50>], 41: [<nmmo.task.task_api.OngoingTask object at 0x7f4b0f5a4fd0>], 42: [<nmmo.task.task_api.OngoingTask object at 0x7f4b0f5a5150>], 43: [<nmmo.task.task_api.OngoingTask object at 0x7f4b0f5a52a0>], 44: [<nmmo.task.task_api.OngoingTask object at 0x7f4b0f5a5420>], 45: [<nmmo.task.task_api.OngoingTask object at 0x7f4b0f5a5570>], 46: [<nmmo.task.task_api.OngoingTask object at 0x7f4b0f5a56f0>], 47: [<nmmo.task.task_api.OngoingTask object at 0x7f4b0f5a5870>], 48: [<nmmo.task.task_api.OngoingTask object at 0x7f4b0f5a59f0>], 49: [<nmmo.task.task_api.OngoingTask object at 0x7f4b0f5a5b40>], 50: [<nmmo.task.task_api.OngoingTask object at 0x7f4b0f5a5cc0>], 51: [<nmmo.task.task_api.OngoingTask object at 0x7f4b0f5a5e40>], 52: [<nmmo.task.task_api.OngoingTask object at 0x7f4b0f5a5fc0>], 53: [<nmmo.task.task_api.OngoingTask object at 0x7f4b0f5a6140>], 54: [<nmmo.task.task_api.OngoingTask object at 0x7f4b0f5a62c0>], 55: [<nmmo.task.task_api.OngoingTask object at 0x7f4b0f5a6440>], 56: [<nmmo.task.task_api.OngoingTask object at 0x7f4b0f5a65c0>], 57: [<nmmo.task.task_api.OngoingTask object at 0x7f4b0f5a6740>], 58: [<nmmo.task.task_api.OngoingTask object at 0x7f4b0f5a68c0>], 59: [<nmmo.task.task_api.OngoingTask object at 0x7f4b0f5a6a40>], 60: [<nmmo.task.task_api.OngoingTask object at 0x7f4b0f5a6bc0>], 61: [<nmmo.task.task_api.OngoingTask object at 0x7f4b0f5a6d40>], 62: [<nmmo.task.task_api.OngoingTask object at 0x7f4b0f5a6ec0>], 63: [<nmmo.task.task_api.OngoingTask object at 0x7f4b0f5a7040>], 64: [<nmmo.task.task_api.OngoingTask object at 0x7f4b0f5a71c0>], 65: [<nmmo.task.task_api.OngoingTask object at 0x7f4b0f5a7310>], 66: [<nmmo.task.task_api.OngoingTask object at 0x7f4b0f5a7490>], 67: [<nmmo.task.task_api.OngoingTask object at 0x7f4b0f5a75e0>], 68: [<nmmo.task.task_api.OngoingTask object at 0x7f4b0f5a7760>], 69: [<nmmo.task.task_api.OngoingTask object at 0x7f4b0f5a78e0>], 70: [<nmmo.task.task_api.OngoingTask object at 0x7f4b0f5a7a60>], 71: [<nmmo.task.task_api.OngoingTask object at 0x7f4b0f5a7bb0>], 72: [<nmmo.task.task_api.OngoingTask object at 0x7f4b0f5a7d30>], 73: [<nmmo.task.task_api.OngoingTask object at 0x7f4b0f5a7eb0>], 74: [<nmmo.task.task_api.OngoingTask object at 0x7f4b0f5b0070>], 75: [<nmmo.task.task_api.OngoingTask object at 0x7f4b0f5b01f0>], 76: [<nmmo.task.task_api.OngoingTask object at 0x7f4b0f5b0340>], 77: [<nmmo.task.task_api.OngoingTask object at 0x7f4b0f5b04c0>], 78: [<nmmo.task.task_api.OngoingTask object at 0x7f4b0f5b0640>], 79: [<nmmo.task.task_api.OngoingTask object at 0x7f4b0f5b07c0>], 80: [<nmmo.task.task_api.OngoingTask object at 0x7f4b0f5b0910>], 81: [<nmmo.task.task_api.OngoingTask object at 0x7f4b0f5b0a90>], 82: [<nmmo.task.task_api.OngoingTask object at 0x7f4b0f5b0be0>], 83: [<nmmo.task.task_api.OngoingTask object at 0x7f4b0f5b0d60>], 84: [<nmmo.task.task_api.OngoingTask object at 0x7f4b0f5b0ee0>], 85: [<nmmo.task.task_api.OngoingTask object at 0x7f4b0f5b1060>], 86: [<nmmo.task.task_api.OngoingTask object at 0x7f4b0f5b11e0>], 87: [<nmmo.task.task_api.OngoingTask object at 0x7f4b0f5b1360>], 88: [<nmmo.task.task_api.OngoingTask object at 0x7f4b0f5b14e0>], 89: [<nmmo.task.task_api.OngoingTask object at 0x7f4b0f5b1660>], 90: [<nmmo.task.task_api.OngoingTask object at 0x7f4b0f5b17e0>], 91: [<nmmo.task.task_api.OngoingTask object at 0x7f4b0f5b1960>], 92: [<nmmo.task.task_api.OngoingTask object at 0x7f4b0f5b1ae0>], 93: [<nmmo.task.task_api.OngoingTask object at 0x7f4b0f5b1c60>], 94: [<nmmo.task.task_api.OngoingTask object at 0x7f4b0f5b1de0>], 95: [<nmmo.task.task_api.OngoingTask object at 0x7f4b0f5b1f60>], 96: [<nmmo.task.task_api.OngoingTask object at 0x7f4b0f5b20e0>], 97: [<nmmo.task.task_api.OngoingTask object at 0x7f4b0f5b2260>], 98: [<nmmo.task.task_api.OngoingTask object at 0x7f4b0f5b23b0>], 99: [<nmmo.task.task_api.OngoingTask object at 0x7f4b0f5b2530>], 100: [<nmmo.task.task_api.OngoingTask object at 0x7f4b0f5b26b0>], 101: [<nmmo.task.task_api.OngoingTask object at 0x7f4b0f5b2830>], 102: [<nmmo.task.task_api.OngoingTask object at 0x7f4b0f5b2980>], 103: [<nmmo.task.task_api.OngoingTask object at 0x7f4b0f5b2b00>], 104: [<nmmo.task.task_api.OngoingTask object at 0x7f4b0f5b2c50>], 105: [<nmmo.task.task_api.OngoingTask object at 0x7f4b0f5b2dd0>], 106: [<nmmo.task.task_api.OngoingTask object at 0x7f4b0f5b2f50>], 107: [<nmmo.task.task_api.OngoingTask object at 0x7f4b0f5b30d0>], 108: [<nmmo.task.task_api.OngoingTask object at 0x7f4b0f5b3220>], 109: [<nmmo.task.task_api.OngoingTask object at 0x7f4b0f5b33a0>], 110: [<nmmo.task.task_api.OngoingTask object at 0x7f4b0f5b3520>], 111: [<nmmo.task.task_api.OngoingTask object at 0x7f4b0f5b36a0>], 112: [<nmmo.task.task_api.OngoingTask object at 0x7f4b0f5b3820>], 113: [<nmmo.task.task_api.OngoingTask object at 0x7f4b0f5b39a0>], 114: [<nmmo.task.task_api.OngoingTask object at 0x7f4b0f5b3b20>], 115: [<nmmo.task.task_api.OngoingTask object at 0x7f4b0f5b3ca0>], 116: [<nmmo.task.task_api.OngoingTask object at 0x7f4b0f5b3e20>], 117: [<nmmo.task.task_api.OngoingTask object at 0x7f4b0f5b3fa0>], 118: [<nmmo.task.task_api.OngoingTask object at 0x7f4b0f5bc160>], 119: [<nmmo.task.task_api.OngoingTask object at 0x7f4b0f5bc2e0>], 120: [<nmmo.task.task_api.OngoingTask object at 0x7f4b0f5bc460>], 121: [<nmmo.task.task_api.OngoingTask object at 0x7f4b0f5bc5e0>], 122: [<nmmo.task.task_api.OngoingTask object at 0x7f4b0f5bc760>], 123: [<nmmo.task.task_api.OngoingTask object at 0x7f4b0f5bc8e0>], 124: [<nmmo.task.task_api.OngoingTask object at 0x7f4b0f5bca30>], 125: [<nmmo.task.task_api.OngoingTask object at 0x7f4b0f5bcbb0>], 126: [<nmmo.task.task_api.OngoingTask object at 0x7f4b0f5bcd30>], 127: [<nmmo.task.task_api.OngoingTask object at 0x7f4b0f5bceb0>], 128: [<nmmo.task.task_api.OngoingTask object at 0x7f4b0f5bd030>]}\n",
      "_dummy_task_embedding:  [0. 0. 0. ... 0. 0. 0.]\n",
      "curriculum_file_path:  None\n",
      "_atn_space:  Dict(Attack:Dict(Style:Discrete(3), Target:Discrete(101)), Buy:Dict(MarketItem:Discrete(1025)), Comm:Dict(Token:Discrete(50)), Destroy:Dict(InventoryItem:Discrete(13)), Give:Dict(InventoryItem:Discrete(13), Target:Discrete(101)), GiveGold:Dict(Price:Discrete(99), Target:Discrete(101)), Move:Dict(Direction:Discrete(5)), Sell:Dict(InventoryItem:Discrete(13), Price:Discrete(99)), Use:Dict(InventoryItem:Discrete(13)))\n",
      "_obs_space:  Dict(ActionTargets:Dict(Attack:Dict(Style:Box(0, 1, (3,), int8), Target:Box(0, 1, (101,), int8)), Buy:Dict(MarketItem:Box(0, 1, (1025,), int8)), Comm:Dict(Token:Box(0, 1, (50,), int8)), Destroy:Dict(InventoryItem:Box(0, 1, (13,), int8)), Give:Dict(InventoryItem:Box(0, 1, (13,), int8), Target:Box(0, 1, (101,), int8)), GiveGold:Dict(Price:Box(0, 1, (99,), int8), Target:Box(0, 1, (101,), int8)), Move:Dict(Direction:Box(0, 1, (5,), int8)), Sell:Dict(InventoryItem:Box(0, 1, (13,), int8), Price:Box(0, 1, (99,), int8)), Use:Dict(InventoryItem:Box(0, 1, (13,), int8))), AgentId:Discrete(129), CurrentTick:Discrete(1025), Entity:Box(-32768, 32767, (100, 31), int16), Inventory:Box(-32768, 32767, (12, 16), int16), Market:Box(-32768, 32767, (1024, 16), int16), Task:Box(-32770.0, 32770.0, (4096,), float16), Tile:Box(-32768, 32767, (225, 3), int16))\n"
     ]
    }
   ],
   "source": [
    "for key in env.__dict__.keys():\n",
    "    print(key+': ', env.__dict__[key])"
   ]
  },
  {
   "cell_type": "markdown",
   "metadata": {},
   "source": [
    "Baseline Policy values"
   ]
  },
  {
   "cell_type": "code",
   "execution_count": 13,
   "metadata": {},
   "outputs": [
    {
     "name": "stdout",
     "output_type": "stream",
     "text": [
      "Policy(\n",
      "  (policy): Baseline(\n",
      "    (tile_encoder): TileEncoder(\n",
      "      (embedding): Embedding(768, 32)\n",
      "      (tile_conv_1): Conv2d(96, 32, kernel_size=(3, 3), stride=(1, 1))\n",
      "      (tile_conv_2): Conv2d(32, 8, kernel_size=(3, 3), stride=(1, 1))\n",
      "      (tile_fc): Linear(in_features=968, out_features=256, bias=True)\n",
      "    )\n",
      "    (player_encoder): PlayerEncoder(\n",
      "      (embedding): Embedding(7936, 32)\n",
      "      (agent_fc): Linear(in_features=992, out_features=256, bias=True)\n",
      "      (my_agent_fc): Linear(in_features=992, out_features=256, bias=True)\n",
      "    )\n",
      "    (item_encoder): ItemEncoder(\n",
      "      (embedding): Embedding(256, 32)\n",
      "      (fc): Linear(in_features=76, out_features=256, bias=True)\n",
      "    )\n",
      "    (inventory_encoder): InventoryEncoder(\n",
      "      (fc): Linear(in_features=3072, out_features=256, bias=True)\n",
      "    )\n",
      "    (market_encoder): MarketEncoder(\n",
      "      (fc): Linear(in_features=256, out_features=256, bias=True)\n",
      "    )\n",
      "    (task_encoder): TaskEncoder(\n",
      "      (fc): Linear(in_features=4096, out_features=256, bias=True)\n",
      "    )\n",
      "    (proj_fc): Linear(in_features=1280, out_features=256, bias=True)\n",
      "    (action_decoder): ActionDecoder(\n",
      "      (layers): ModuleDict(\n",
      "        (attack_style): Linear(in_features=256, out_features=3, bias=True)\n",
      "        (attack_target): Linear(in_features=256, out_features=256, bias=True)\n",
      "        (market_buy): Linear(in_features=256, out_features=256, bias=True)\n",
      "        (inventory_destroy): Linear(in_features=256, out_features=256, bias=True)\n",
      "        (inventory_give_item): Linear(in_features=256, out_features=256, bias=True)\n",
      "        (inventory_give_player): Linear(in_features=256, out_features=256, bias=True)\n",
      "        (gold_quantity): Linear(in_features=256, out_features=99, bias=True)\n",
      "        (gold_target): Linear(in_features=256, out_features=256, bias=True)\n",
      "        (move): Linear(in_features=256, out_features=5, bias=True)\n",
      "        (inventory_sell): Linear(in_features=256, out_features=256, bias=True)\n",
      "        (inventory_price): Linear(in_features=256, out_features=99, bias=True)\n",
      "        (inventory_use): Linear(in_features=256, out_features=256, bias=True)\n",
      "      )\n",
      "    )\n",
      "    (value_head): Linear(in_features=256, out_features=1, bias=True)\n",
      "  )\n",
      ")\n"
     ]
    }
   ],
   "source": [
    "# I want to see what is inside the pytorch model/home/saidinesh/Desktop/Projects/baselines/starter-kit-nmmo/my-submission/nmmo_20231108_125354.000305.pt\n",
    "import torch\n",
    "model = torch.load('/home/saidinesh/Desktop/Projects/baselines/starter-kit-nmmo/my-submission/nmmo_20231108_125354.000305.pt')\n",
    "print(model)"
   ]
  }
 ],
 "metadata": {
  "kernelspec": {
   "display_name": "rllib-env",
   "language": "python",
   "name": "python3"
  },
  "language_info": {
   "codemirror_mode": {
    "name": "ipython",
    "version": 3
   },
   "file_extension": ".py",
   "mimetype": "text/x-python",
   "name": "python",
   "nbconvert_exporter": "python",
   "pygments_lexer": "ipython3",
   "version": "3.10.12"
  }
 },
 "nbformat": 4,
 "nbformat_minor": 2
}
